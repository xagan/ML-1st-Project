{
 "cells": [
  {
   "cell_type": "code",
   "source": [
    "from sklearn.cluster import KMeans\n",
    "import numpy as np\n",
    "import rasterio\n",
    "from sklearn.model_selection import train_test_split\n",
    "from sklearn.naive_bayes import GaussianNB\n",
    "from sklearn.metrics import accuracy_score, classification_report\n",
    "from sklearn.ensemble import RandomForestClassifier\n",
    "import matplotlib.pyplot as plt"
   ],
   "metadata": {
    "collapsed": false
   },
   "id": "564d964fbeb01809",
   "outputs": [],
   "execution_count": null
  },
  {
   "cell_type": "code",
   "source": [
    "# Function to load satellite image data\n",
    "def load_image(file_path):\n",
    "    with rasterio.open(file_path) as src:\n",
    "        image = src.read()\n",
    "    return image\n",
    "\n",
    "# Function to prepare dataset\n",
    "def prepare_dataset(images, labels):\n",
    "    height, width, channels = images[0].shape\n",
    "    X = images.reshape(-1, channels)\n",
    "    y = labels.flatten()\n",
    "    return X, y\n",
    "\n",
    "# Function to visualize labels on an image\n",
    "def visualize_labels(image, labels):\n",
    "    plt.figure(figsize=(10, 10))\n",
    "    plt.imshow(image)\n",
    "    plt.imshow(labels, alpha=0.5)  # Overlay labels on the image with transparency\n",
    "    plt.colorbar()\n",
    "    plt.title('Image with Labels')\n",
    "    plt.show()"
   ],
   "metadata": {
    "collapsed": false
   },
   "id": "55d7020749aefd84",
   "outputs": [],
   "execution_count": null
  },
  {
   "cell_type": "code",
   "source": [
    "# Load satellite images\n",
    "image_files = ['Data/1.jpg', 'Data/2.jpg', 'Data/3.jpg', 'Data/4.jpg', 'Data/5.jpg', 'Data/6.jpg', 'Data/7.jpg']\n",
    "images = [load_image(file) for file in image_files]"
   ],
   "metadata": {
    "collapsed": false
   },
   "id": "8effe021dea00347",
   "outputs": [],
   "execution_count": null
  },
  {
   "cell_type": "code",
   "source": [
    "# Reshape each image to have one row per pixel\n",
    "reshaped_images = [image.reshape(-1, image.shape[-1]) for image in images]\n",
    "\n",
    "# Concatenate all reshaped images into one array\n",
    "all_pixels = np.concatenate(reshaped_images, axis=0)\n",
    "\n",
    "# Define the range of clusters to try\n",
    "k_values = range(1, min(8, all_pixels.shape[0] + 1))  # Trying cluster numbers from 1 to min(8, total number of pixels)\n",
    "\n",
    "# Calculate the inertia for each K value\n",
    "inertia_values = []\n",
    "for k in k_values:\n",
    "    kmeans = KMeans(n_clusters=k, random_state=42)\n",
    "    kmeans.fit(all_pixels)\n",
    "    inertia_values.append(kmeans.inertia_)\n",
    "\n",
    "# Plot the inertia values to determine the optimal number of clusters\n",
    "plt.plot(k_values, inertia_values, marker='o')\n",
    "plt.xlabel('Number of clusters (K)')\n",
    "plt.ylabel('Inertia')\n",
    "plt.title('Elbow Method for Optimal K')\n",
    "plt.show()\n",
    "# Sample labels for demonstration, replace with actual labels\n",
    "# Assuming 5 classes: 0 - Lake, 1 - Urban, 2 - Mountainous, 3 - Agricultural, 4 - Forest\n",
    "labels = np.random.randint(0, 3, size=(len(images), images[0].shape[0], images[0].shape[1]))\n",
    "\n",
    "# Flatten the labels to match the number of pixels\n",
    "y = labels.reshape(-1)\n",
    "\n",
    "# Prepare dataset\n",
    "X, y = prepare_dataset(np.array(images), y)\n",
    "\n",
    "# Split data into training and testing sets\n",
    "X_train, X_test, y_train, y_test = train_test_split(X, y, test_size=0.2, random_state=42)"
   ],
   "metadata": {
    "collapsed": false
   },
   "id": "4ae53a9e5263c8be",
   "outputs": [],
   "execution_count": null
  },
  {
   "cell_type": "code",
   "source": [
    "# Train Maximum Likelihood classifier\n",
    "max_likelihood_clf = RandomForestClassifier()\n",
    "max_likelihood_clf.fit(X_train, y_train)\n",
    "\n",
    "# Predict using Maximum Likelihood classifier\n",
    "max_likelihood_preds = max_likelihood_clf.predict(X_test)\n",
    "\n",
    "# Evaluate Maximum Likelihood classifier\n",
    "print(\"Maximum Likelihood Classifier:\")\n",
    "print(\"Accuracy:\", accuracy_score(y_test, max_likelihood_preds))\n",
    "print(\"Classification Report:\")\n",
    "print(classification_report(y_test, max_likelihood_preds))\n",
    "\n",
    "# Train Naïve Bayes classifier\n",
    "naive_bayes_clf = GaussianNB()\n",
    "naive_bayes_clf.fit(X_train, y_train)\n",
    "\n",
    "# Predict using Naïve Bayes classifier\n",
    "naive_bayes_preds = naive_bayes_clf.predict(X_test)\n",
    "\n",
    "# Evaluate Naïve Bayes classifier\n",
    "print(\"Naïve Bayes Classifier:\")\n",
    "print(\"Accuracy:\", accuracy_score(y_test, naive_bayes_preds))\n",
    "print(\"Classification Report:\")\n",
    "print(classification_report(y_test, naive_bayes_preds))"
   ],
   "metadata": {
    "collapsed": false
   },
   "id": "79854cf655d39021",
   "outputs": [],
   "execution_count": null
  },
  {
   "metadata": {},
   "cell_type": "code",
   "source": "",
   "id": "b6b4a3cf713737e6",
   "outputs": [],
   "execution_count": null
  }
 ],
 "metadata": {
  "kernelspec": {
   "display_name": "Python 3",
   "language": "python",
   "name": "python3"
  },
  "language_info": {
   "codemirror_mode": {
    "name": "ipython",
    "version": 2
   },
   "file_extension": ".py",
   "mimetype": "text/x-python",
   "name": "python",
   "nbconvert_exporter": "python",
   "pygments_lexer": "ipython2",
   "version": "2.7.6"
  }
 },
 "nbformat": 4,
 "nbformat_minor": 5
}
